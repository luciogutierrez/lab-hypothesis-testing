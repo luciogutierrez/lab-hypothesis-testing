{
 "cells": [
  {
   "cell_type": "markdown",
   "metadata": {},
   "source": [
    "# Before your start:\n",
    "- Read the README.md file\n",
    "- Comment as much as you can and use the resources (README.md file)\n",
    "- Happy learning!"
   ]
  },
  {
   "cell_type": "code",
   "execution_count": 1,
   "metadata": {},
   "outputs": [],
   "source": [
    "# import numpy and pandas\n",
    "import numpy as np\n",
    "import pandas as pd"
   ]
  },
  {
   "cell_type": "markdown",
   "metadata": {},
   "source": [
    "# Challenge 1 - Exploring the Data\n",
    "\n",
    "In this challenge, we will examine all salaries of employees of the City of Chicago. We will start by loading the dataset and examining its contents"
   ]
  },
  {
   "cell_type": "code",
   "execution_count": 2,
   "metadata": {},
   "outputs": [],
   "source": [
    "# Run this code:\n",
    "salaries = pd.read_csv('../Current_Employee_Names__Salaries__and_Position_Titles.csv')"
   ]
  },
  {
   "cell_type": "markdown",
   "metadata": {},
   "source": [
    "Examine the `salaries` dataset using the `head` function below."
   ]
  },
  {
   "cell_type": "code",
   "execution_count": 3,
   "metadata": {},
   "outputs": [
    {
     "output_type": "execute_result",
     "data": {
      "text/plain": [
       "                  Name                              Job Titles  \\\n",
       "0    AARON,  JEFFERY M                                SERGEANT   \n",
       "1      AARON,  KARINA   POLICE OFFICER (ASSIGNED AS DETECTIVE)   \n",
       "2  AARON,  KIMBERLEI R                CHIEF CONTRACT EXPEDITER   \n",
       "3  ABAD JR,  VICENTE M                       CIVIL ENGINEER IV   \n",
       "4    ABASCAL,  REECE E             TRAFFIC CONTROL AIDE-HOURLY   \n",
       "\n",
       "         Department Full or Part-Time Salary or Hourly  Typical Hours  \\\n",
       "0            POLICE                 F           Salary            NaN   \n",
       "1            POLICE                 F           Salary            NaN   \n",
       "2  GENERAL SERVICES                 F           Salary            NaN   \n",
       "3       WATER MGMNT                 F           Salary            NaN   \n",
       "4              OEMC                 P           Hourly           20.0   \n",
       "\n",
       "   Annual Salary  Hourly Rate  \n",
       "0       101442.0          NaN  \n",
       "1        94122.0          NaN  \n",
       "2       101592.0          NaN  \n",
       "3       110064.0          NaN  \n",
       "4            NaN        19.86  "
      ],
      "text/html": "<div>\n<style scoped>\n    .dataframe tbody tr th:only-of-type {\n        vertical-align: middle;\n    }\n\n    .dataframe tbody tr th {\n        vertical-align: top;\n    }\n\n    .dataframe thead th {\n        text-align: right;\n    }\n</style>\n<table border=\"1\" class=\"dataframe\">\n  <thead>\n    <tr style=\"text-align: right;\">\n      <th></th>\n      <th>Name</th>\n      <th>Job Titles</th>\n      <th>Department</th>\n      <th>Full or Part-Time</th>\n      <th>Salary or Hourly</th>\n      <th>Typical Hours</th>\n      <th>Annual Salary</th>\n      <th>Hourly Rate</th>\n    </tr>\n  </thead>\n  <tbody>\n    <tr>\n      <th>0</th>\n      <td>AARON,  JEFFERY M</td>\n      <td>SERGEANT</td>\n      <td>POLICE</td>\n      <td>F</td>\n      <td>Salary</td>\n      <td>NaN</td>\n      <td>101442.0</td>\n      <td>NaN</td>\n    </tr>\n    <tr>\n      <th>1</th>\n      <td>AARON,  KARINA</td>\n      <td>POLICE OFFICER (ASSIGNED AS DETECTIVE)</td>\n      <td>POLICE</td>\n      <td>F</td>\n      <td>Salary</td>\n      <td>NaN</td>\n      <td>94122.0</td>\n      <td>NaN</td>\n    </tr>\n    <tr>\n      <th>2</th>\n      <td>AARON,  KIMBERLEI R</td>\n      <td>CHIEF CONTRACT EXPEDITER</td>\n      <td>GENERAL SERVICES</td>\n      <td>F</td>\n      <td>Salary</td>\n      <td>NaN</td>\n      <td>101592.0</td>\n      <td>NaN</td>\n    </tr>\n    <tr>\n      <th>3</th>\n      <td>ABAD JR,  VICENTE M</td>\n      <td>CIVIL ENGINEER IV</td>\n      <td>WATER MGMNT</td>\n      <td>F</td>\n      <td>Salary</td>\n      <td>NaN</td>\n      <td>110064.0</td>\n      <td>NaN</td>\n    </tr>\n    <tr>\n      <th>4</th>\n      <td>ABASCAL,  REECE E</td>\n      <td>TRAFFIC CONTROL AIDE-HOURLY</td>\n      <td>OEMC</td>\n      <td>P</td>\n      <td>Hourly</td>\n      <td>20.0</td>\n      <td>NaN</td>\n      <td>19.86</td>\n    </tr>\n  </tbody>\n</table>\n</div>"
     },
     "metadata": {},
     "execution_count": 3
    }
   ],
   "source": [
    "# Your code here:\n",
    "salaries.head(5)"
   ]
  },
  {
   "cell_type": "markdown",
   "metadata": {},
   "source": [
    "We see from looking at the `head` function that there is quite a bit of missing data. Let's examine how much missing data is in each column. Produce this output in the cell below"
   ]
  },
  {
   "cell_type": "code",
   "execution_count": 4,
   "metadata": {},
   "outputs": [
    {
     "output_type": "stream",
     "name": "stdout",
     "text": [
      "<class 'pandas.core.frame.DataFrame'>\nRangeIndex: 33183 entries, 0 to 33182\nData columns (total 8 columns):\n #   Column             Non-Null Count  Dtype  \n---  ------             --------------  -----  \n 0   Name               33183 non-null  object \n 1   Job Titles         33183 non-null  object \n 2   Department         33183 non-null  object \n 3   Full or Part-Time  33183 non-null  object \n 4   Salary or Hourly   33183 non-null  object \n 5   Typical Hours      8022 non-null   float64\n 6   Annual Salary      25161 non-null  float64\n 7   Hourly Rate        8022 non-null   float64\ndtypes: float64(3), object(5)\nmemory usage: 2.0+ MB\n"
     ]
    }
   ],
   "source": [
    "# Your code here:\n",
    "salaries.info()"
   ]
  },
  {
   "cell_type": "markdown",
   "metadata": {},
   "source": [
    "Let's also look at the count of hourly vs. salaried employees. Write the code in the cell below"
   ]
  },
  {
   "cell_type": "code",
   "execution_count": 74,
   "metadata": {},
   "outputs": [
    {
     "output_type": "stream",
     "name": "stdout",
     "text": [
      "8022\n25161\n"
     ]
    }
   ],
   "source": [
    "# Your code here:\n",
    "hourly = len(salaries[salaries['Salary or Hourly']=='Hourly'])\n",
    "salary = len(salaries[salaries['Salary or Hourly']=='Salary'])\n",
    "print(hourly)\n",
    "print(salary)"
   ]
  },
  {
   "cell_type": "markdown",
   "metadata": {},
   "source": [
    "What this information indicates is that the table contains information about two types of employees - salaried and hourly. Some columns apply only to one type of employee while other columns only apply to another kind. This is why there are so many missing values. Therefore, we will not do anything to handle the missing values."
   ]
  },
  {
   "cell_type": "markdown",
   "metadata": {},
   "source": [
    "There are different departments in the city. List all departments and the count of employees in each department."
   ]
  },
  {
   "cell_type": "code",
   "execution_count": 6,
   "metadata": {},
   "outputs": [
    {
     "output_type": "execute_result",
     "data": {
      "text/plain": [
       "POLICE                   13414\n",
       "FIRE                      4641\n",
       "STREETS & SAN             2198\n",
       "OEMC                      2102\n",
       "WATER MGMNT               1879\n",
       "AVIATION                  1629\n",
       "TRANSPORTN                1140\n",
       "PUBLIC LIBRARY            1015\n",
       "GENERAL SERVICES           980\n",
       "FAMILY & SUPPORT           615\n",
       "FINANCE                    560\n",
       "HEALTH                     488\n",
       "CITY COUNCIL               411\n",
       "LAW                        407\n",
       "BUILDINGS                  269\n",
       "COMMUNITY DEVELOPMENT      207\n",
       "BUSINESS AFFAIRS           171\n",
       "COPA                       116\n",
       "BOARD OF ELECTION          107\n",
       "DoIT                        99\n",
       "PROCUREMENT                 92\n",
       "INSPECTOR GEN               87\n",
       "MAYOR'S OFFICE              85\n",
       "CITY CLERK                  84\n",
       "ANIMAL CONTRL               81\n",
       "HUMAN RESOURCES             79\n",
       "CULTURAL AFFAIRS            65\n",
       "BUDGET & MGMT               46\n",
       "ADMIN HEARNG                39\n",
       "DISABILITIES                28\n",
       "TREASURER                   22\n",
       "HUMAN RELATIONS             16\n",
       "BOARD OF ETHICS              8\n",
       "POLICE BOARD                 2\n",
       "LICENSE APPL COMM            1\n",
       "Name: Department, dtype: int64"
      ]
     },
     "metadata": {},
     "execution_count": 6
    }
   ],
   "source": [
    "# Your code here:\n",
    "salaries['Department'].value_counts()"
   ]
  },
  {
   "cell_type": "markdown",
   "metadata": {},
   "source": [
    "# Challenge 2 - Hypothesis Tests\n",
    "\n",
    "In this section of the lab, we will test whether the hourly wage of all hourly workers is significantly different from $30/hr. Import the correct one sample test function from scipy and perform the hypothesis test for a 95% two sided confidence interval."
   ]
  },
  {
   "cell_type": "code",
   "execution_count": 7,
   "metadata": {},
   "outputs": [
    {
     "output_type": "stream",
     "name": "stdout",
     "text": [
      "32.78855771628023\n12.112572684276799\n"
     ]
    }
   ],
   "source": [
    "salary = salaries['Hourly Rate']\n",
    "mu = salary.mean()\n",
    "sigma = salary.std()\n",
    "print(mu)\n",
    "print(sigma)"
   ]
  },
  {
   "cell_type": "code",
   "execution_count": 8,
   "metadata": {},
   "outputs": [
    {
     "output_type": "stream",
     "name": "stdout",
     "text": [
      "32.78855771628023\n12.112572684276799\n"
     ]
    }
   ],
   "source": [
    "# se obtiene de la tabla z dependiendo el grado de exactitud deseado\n",
    "z_test = 1.65\n",
    "x_bar = 95\n",
    "print(mu)\n",
    "print(sigma)\n",
    "n = 10"
   ]
  },
  {
   "cell_type": "code",
   "execution_count": 9,
   "metadata": {},
   "outputs": [
    {
     "output_type": "execute_result",
     "data": {
      "text/plain": [
       "16.24178935958291"
      ]
     },
     "metadata": {},
     "execution_count": 9
    }
   ],
   "source": [
    "standard_error = sigma / np.sqrt(n)\n",
    "z_stat = (x_bar - mu) / standard_error\n",
    "z_stat"
   ]
  },
  {
   "cell_type": "code",
   "execution_count": 10,
   "metadata": {},
   "outputs": [
    {
     "output_type": "stream",
     "name": "stdout",
     "text": [
      "Valor de z: 16.24178935958291, mayor que 1.65\n podemos rechazar la hipotesis, con una confianza del 95%\n"
     ]
    }
   ],
   "source": [
    "if z_stat < z_test:\n",
    "    print(f'Valor de z: {z_stat}, menor que {z_test}\\n No podemos rechazar la hipotesis')\n",
    "else:    \n",
    "    print(f'Valor de z: {z_stat}, mayor que {z_test}\\n podemos rechazar la hipotesis, con una confianza del 95%')"
   ]
  },
  {
   "cell_type": "markdown",
   "metadata": {},
   "source": [
    "We are also curious about salaries in the police force. The chief of police in Chicago claimed in a press briefing that salaries this year are higher than last year's mean of $86000/year a year for all salaried employees. Test this one sided hypothesis using a 95% confidence interval.\n",
    "\n",
    "Hint: A one tailed test has a p-value that is half of the two tailed p-value. If our hypothesis is greater than, then to reject, the test statistic must also be positive."
   ]
  },
  {
   "cell_type": "code",
   "execution_count": 11,
   "metadata": {},
   "outputs": [
    {
     "output_type": "stream",
     "name": "stdout",
     "text": [
      "86786.99979015143\n21041.35460162839\n"
     ]
    }
   ],
   "source": [
    "# Your code here:\n",
    "salary = salaries['Annual Salary']\n",
    "mu = salary.mean()\n",
    "sigma = salary.std()\n",
    "print(mu)\n",
    "print(sigma)"
   ]
  },
  {
   "cell_type": "code",
   "execution_count": 12,
   "metadata": {},
   "outputs": [
    {
     "output_type": "stream",
     "name": "stdout",
     "text": [
      "86786.99979015143\n21041.35460162839\n"
     ]
    }
   ],
   "source": [
    "# se obtiene de la tabla z dependiendo el grado de exactitud deseado\n",
    "z_test = 1.65\n",
    "x_bar = 95\n",
    "print(mu)\n",
    "print(sigma)\n",
    "n = 10"
   ]
  },
  {
   "cell_type": "code",
   "execution_count": 13,
   "metadata": {},
   "outputs": [
    {
     "output_type": "execute_result",
     "data": {
      "text/plain": [
       "-13.028827251953716"
      ]
     },
     "metadata": {},
     "execution_count": 13
    }
   ],
   "source": [
    "standard_error = sigma / np.sqrt(n)\n",
    "z_stat = (x_bar - mu) / standard_error\n",
    "z_stat"
   ]
  },
  {
   "cell_type": "code",
   "execution_count": 14,
   "metadata": {},
   "outputs": [
    {
     "output_type": "stream",
     "name": "stdout",
     "text": [
      "Valor de z: -13.028827251953716, menor que 1.65\n No podemos rechazar la hipotesis\n"
     ]
    }
   ],
   "source": [
    "if z_stat < z_test:\n",
    "    print(f'Valor de z: {z_stat}, menor que {z_test}\\n No podemos rechazar la hipotesis')\n",
    "else:    \n",
    "    print(f'Valor de z: {z_stat}, mayor que {z_test}\\n podemos rechazar la hipotesis, con una confianza del 95%')"
   ]
  },
  {
   "cell_type": "markdown",
   "metadata": {},
   "source": [
    "Using the `crosstab` function, find the department that has the most hourly workers. "
   ]
  },
  {
   "cell_type": "code",
   "execution_count": 17,
   "metadata": {},
   "outputs": [
    {
     "output_type": "execute_result",
     "data": {
      "text/plain": [
       "STREETS & SAN            1862\n",
       "WATER MGMNT              1513\n",
       "OEMC                     1273\n",
       "AVIATION                 1082\n",
       "GENERAL SERVICES          765\n",
       "TRANSPORTN                725\n",
       "PUBLIC LIBRARY            299\n",
       "FAMILY & SUPPORT          287\n",
       "CITY COUNCIL               64\n",
       "FINANCE                    44\n",
       "LAW                        40\n",
       "ANIMAL CONTRL              19\n",
       "POLICE                     10\n",
       "MAYOR'S OFFICE              8\n",
       "CULTURAL AFFAIRS            7\n",
       "BUSINESS AFFAIRS            7\n",
       "HUMAN RESOURCES             4\n",
       "COMMUNITY DEVELOPMENT       4\n",
       "HEALTH                      3\n",
       "FIRE                        2\n",
       "BUDGET & MGMT               2\n",
       "PROCUREMENT                 2\n",
       "Name: Department, dtype: int64"
      ]
     },
     "metadata": {},
     "execution_count": 17
    }
   ],
   "source": [
    "# Your code here:\n",
    "salaries['Department'][(salaries['Salary or Hourly']=='Hourly')].value_counts()"
   ]
  },
  {
   "cell_type": "markdown",
   "metadata": {},
   "source": [
    "The workers from the department with the most hourly workers have complained that their hourly wage is less than $35/hour. Using a one sample t-test, test this one-sided hypothesis at the 95% confidence level."
   ]
  },
  {
   "cell_type": "code",
   "execution_count": 16,
   "metadata": {},
   "outputs": [],
   "source": [
    "# Your code here:\n",
    "from scipy.stats import ttest_rel, ttest_1samp"
   ]
  },
  {
   "cell_type": "code",
   "execution_count": 53,
   "metadata": {},
   "outputs": [
    {
     "output_type": "stream",
     "name": "stdout",
     "text": [
      "                    index  Department\n0                    OEMC        1229\n1           STREETS & SAN         421\n2                AVIATION         323\n3          PUBLIC LIBRARY         288\n4        FAMILY & SUPPORT         287\n5        GENERAL SERVICES         134\n6             WATER MGMNT         105\n7            CITY COUNCIL          64\n8                 FINANCE          41\n9                     LAW          39\n10             TRANSPORTN          25\n11          ANIMAL CONTRL          18\n12                 POLICE          10\n13         MAYOR'S OFFICE           8\n14       CULTURAL AFFAIRS           7\n15       BUSINESS AFFAIRS           7\n16        HUMAN RESOURCES           4\n17  COMMUNITY DEVELOPMENT           2\n18          BUDGET & MGMT           2\n                    index  Department\n0           STREETS & SAN        1441\n1             WATER MGMNT        1408\n2                AVIATION         759\n3              TRANSPORTN         700\n4        GENERAL SERVICES         631\n5                    OEMC          44\n6          PUBLIC LIBRARY          11\n7                  HEALTH           3\n8                 FINANCE           3\n9             PROCUREMENT           2\n10  COMMUNITY DEVELOPMENT           2\n11                   FIRE           2\n12          ANIMAL CONTRL           1\n13                    LAW           1\n"
     ]
    }
   ],
   "source": [
    "hourly_less_35 = salaries['Department'][(salaries['Salary or Hourly']=='Hourly')&(salaries['Hourly Rate']<=35)].value_counts().reset_index()\n",
    "hourly_bigg_35 = salaries['Department'][(salaries['Salary or Hourly']=='Hourly')&(salaries['Hourly Rate']>35)].value_counts().reset_index()\n",
    "print(hourly_less_35)\n",
    "print(hourly_bigg_35)\n",
    "\n"
   ]
  },
  {
   "cell_type": "code",
   "execution_count": 54,
   "metadata": {},
   "outputs": [
    {
     "output_type": "execute_result",
     "data": {
      "text/plain": [
       "                    index  Department_x  Department_y\n",
       "0                    OEMC        1229.0          44.0\n",
       "1           STREETS & SAN         421.0        1441.0\n",
       "2                AVIATION         323.0         759.0\n",
       "3          PUBLIC LIBRARY         288.0          11.0\n",
       "4        FAMILY & SUPPORT         287.0           NaN\n",
       "5        GENERAL SERVICES         134.0         631.0\n",
       "6             WATER MGMNT         105.0        1408.0\n",
       "7            CITY COUNCIL          64.0           NaN\n",
       "8                 FINANCE          41.0           3.0\n",
       "9                     LAW          39.0           1.0\n",
       "10             TRANSPORTN          25.0         700.0\n",
       "11          ANIMAL CONTRL          18.0           1.0\n",
       "12                 POLICE          10.0           NaN\n",
       "13         MAYOR'S OFFICE           8.0           NaN\n",
       "14       CULTURAL AFFAIRS           7.0           NaN\n",
       "15       BUSINESS AFFAIRS           7.0           NaN\n",
       "16        HUMAN RESOURCES           4.0           NaN\n",
       "17  COMMUNITY DEVELOPMENT           2.0           2.0\n",
       "18          BUDGET & MGMT           2.0           NaN\n",
       "19                 HEALTH           NaN           3.0\n",
       "20            PROCUREMENT           NaN           2.0\n",
       "21                   FIRE           NaN           2.0"
      ],
      "text/html": "<div>\n<style scoped>\n    .dataframe tbody tr th:only-of-type {\n        vertical-align: middle;\n    }\n\n    .dataframe tbody tr th {\n        vertical-align: top;\n    }\n\n    .dataframe thead th {\n        text-align: right;\n    }\n</style>\n<table border=\"1\" class=\"dataframe\">\n  <thead>\n    <tr style=\"text-align: right;\">\n      <th></th>\n      <th>index</th>\n      <th>Department_x</th>\n      <th>Department_y</th>\n    </tr>\n  </thead>\n  <tbody>\n    <tr>\n      <th>0</th>\n      <td>OEMC</td>\n      <td>1229.0</td>\n      <td>44.0</td>\n    </tr>\n    <tr>\n      <th>1</th>\n      <td>STREETS &amp; SAN</td>\n      <td>421.0</td>\n      <td>1441.0</td>\n    </tr>\n    <tr>\n      <th>2</th>\n      <td>AVIATION</td>\n      <td>323.0</td>\n      <td>759.0</td>\n    </tr>\n    <tr>\n      <th>3</th>\n      <td>PUBLIC LIBRARY</td>\n      <td>288.0</td>\n      <td>11.0</td>\n    </tr>\n    <tr>\n      <th>4</th>\n      <td>FAMILY &amp; SUPPORT</td>\n      <td>287.0</td>\n      <td>NaN</td>\n    </tr>\n    <tr>\n      <th>5</th>\n      <td>GENERAL SERVICES</td>\n      <td>134.0</td>\n      <td>631.0</td>\n    </tr>\n    <tr>\n      <th>6</th>\n      <td>WATER MGMNT</td>\n      <td>105.0</td>\n      <td>1408.0</td>\n    </tr>\n    <tr>\n      <th>7</th>\n      <td>CITY COUNCIL</td>\n      <td>64.0</td>\n      <td>NaN</td>\n    </tr>\n    <tr>\n      <th>8</th>\n      <td>FINANCE</td>\n      <td>41.0</td>\n      <td>3.0</td>\n    </tr>\n    <tr>\n      <th>9</th>\n      <td>LAW</td>\n      <td>39.0</td>\n      <td>1.0</td>\n    </tr>\n    <tr>\n      <th>10</th>\n      <td>TRANSPORTN</td>\n      <td>25.0</td>\n      <td>700.0</td>\n    </tr>\n    <tr>\n      <th>11</th>\n      <td>ANIMAL CONTRL</td>\n      <td>18.0</td>\n      <td>1.0</td>\n    </tr>\n    <tr>\n      <th>12</th>\n      <td>POLICE</td>\n      <td>10.0</td>\n      <td>NaN</td>\n    </tr>\n    <tr>\n      <th>13</th>\n      <td>MAYOR'S OFFICE</td>\n      <td>8.0</td>\n      <td>NaN</td>\n    </tr>\n    <tr>\n      <th>14</th>\n      <td>CULTURAL AFFAIRS</td>\n      <td>7.0</td>\n      <td>NaN</td>\n    </tr>\n    <tr>\n      <th>15</th>\n      <td>BUSINESS AFFAIRS</td>\n      <td>7.0</td>\n      <td>NaN</td>\n    </tr>\n    <tr>\n      <th>16</th>\n      <td>HUMAN RESOURCES</td>\n      <td>4.0</td>\n      <td>NaN</td>\n    </tr>\n    <tr>\n      <th>17</th>\n      <td>COMMUNITY DEVELOPMENT</td>\n      <td>2.0</td>\n      <td>2.0</td>\n    </tr>\n    <tr>\n      <th>18</th>\n      <td>BUDGET &amp; MGMT</td>\n      <td>2.0</td>\n      <td>NaN</td>\n    </tr>\n    <tr>\n      <th>19</th>\n      <td>HEALTH</td>\n      <td>NaN</td>\n      <td>3.0</td>\n    </tr>\n    <tr>\n      <th>20</th>\n      <td>PROCUREMENT</td>\n      <td>NaN</td>\n      <td>2.0</td>\n    </tr>\n    <tr>\n      <th>21</th>\n      <td>FIRE</td>\n      <td>NaN</td>\n      <td>2.0</td>\n    </tr>\n  </tbody>\n</table>\n</div>"
     },
     "metadata": {},
     "execution_count": 54
    }
   ],
   "source": [
    "salary_test = pd.merge(hourly_less_35, hourly_bigg_35, on='index', how='outer')\n",
    "salary_test"
   ]
  },
  {
   "cell_type": "code",
   "execution_count": 55,
   "metadata": {},
   "outputs": [],
   "source": [
    "salary_test.rename(columns={'index':'Department','Department_x':'less_35','Department_y':'bigg_35'}, inplace=True)\n",
    "salary_test2 = salary_test.dropna()\n"
   ]
  },
  {
   "cell_type": "code",
   "execution_count": 56,
   "metadata": {},
   "outputs": [
    {
     "output_type": "execute_result",
     "data": {
      "text/plain": [
       "               Department  less_35  bigg_35\n",
       "0                    OEMC   1229.0     44.0\n",
       "1           STREETS & SAN    421.0   1441.0\n",
       "2                AVIATION    323.0    759.0\n",
       "3          PUBLIC LIBRARY    288.0     11.0\n",
       "5        GENERAL SERVICES    134.0    631.0\n",
       "6             WATER MGMNT    105.0   1408.0\n",
       "8                 FINANCE     41.0      3.0\n",
       "9                     LAW     39.0      1.0\n",
       "10             TRANSPORTN     25.0    700.0\n",
       "11          ANIMAL CONTRL     18.0      1.0\n",
       "17  COMMUNITY DEVELOPMENT      2.0      2.0"
      ],
      "text/html": "<div>\n<style scoped>\n    .dataframe tbody tr th:only-of-type {\n        vertical-align: middle;\n    }\n\n    .dataframe tbody tr th {\n        vertical-align: top;\n    }\n\n    .dataframe thead th {\n        text-align: right;\n    }\n</style>\n<table border=\"1\" class=\"dataframe\">\n  <thead>\n    <tr style=\"text-align: right;\">\n      <th></th>\n      <th>Department</th>\n      <th>less_35</th>\n      <th>bigg_35</th>\n    </tr>\n  </thead>\n  <tbody>\n    <tr>\n      <th>0</th>\n      <td>OEMC</td>\n      <td>1229.0</td>\n      <td>44.0</td>\n    </tr>\n    <tr>\n      <th>1</th>\n      <td>STREETS &amp; SAN</td>\n      <td>421.0</td>\n      <td>1441.0</td>\n    </tr>\n    <tr>\n      <th>2</th>\n      <td>AVIATION</td>\n      <td>323.0</td>\n      <td>759.0</td>\n    </tr>\n    <tr>\n      <th>3</th>\n      <td>PUBLIC LIBRARY</td>\n      <td>288.0</td>\n      <td>11.0</td>\n    </tr>\n    <tr>\n      <th>5</th>\n      <td>GENERAL SERVICES</td>\n      <td>134.0</td>\n      <td>631.0</td>\n    </tr>\n    <tr>\n      <th>6</th>\n      <td>WATER MGMNT</td>\n      <td>105.0</td>\n      <td>1408.0</td>\n    </tr>\n    <tr>\n      <th>8</th>\n      <td>FINANCE</td>\n      <td>41.0</td>\n      <td>3.0</td>\n    </tr>\n    <tr>\n      <th>9</th>\n      <td>LAW</td>\n      <td>39.0</td>\n      <td>1.0</td>\n    </tr>\n    <tr>\n      <th>10</th>\n      <td>TRANSPORTN</td>\n      <td>25.0</td>\n      <td>700.0</td>\n    </tr>\n    <tr>\n      <th>11</th>\n      <td>ANIMAL CONTRL</td>\n      <td>18.0</td>\n      <td>1.0</td>\n    </tr>\n    <tr>\n      <th>17</th>\n      <td>COMMUNITY DEVELOPMENT</td>\n      <td>2.0</td>\n      <td>2.0</td>\n    </tr>\n  </tbody>\n</table>\n</div>"
     },
     "metadata": {},
     "execution_count": 56
    }
   ],
   "source": [
    "salary_test2"
   ]
  },
  {
   "cell_type": "code",
   "execution_count": 57,
   "metadata": {},
   "outputs": [
    {
     "output_type": "execute_result",
     "data": {
      "text/plain": [
       "Ttest_relResult(statistic=-1.0560480421523528, pvalue=0.3157912938579494)"
      ]
     },
     "metadata": {},
     "execution_count": 57
    }
   ],
   "source": [
    "ttest_rel(salary_test2.less_35, salary_test2.bigg_35)"
   ]
  },
  {
   "cell_type": "markdown",
   "metadata": {},
   "source": [
    "# Challenge 3 - Constructing Confidence Intervals\n",
    "\n",
    "While testing our hypothesis is a great way to gather empirical evidence for accepting or rejecting the hypothesis, another way to gather evidence is by creating a confidence interval. A confidence interval gives us information about the true mean of the population. So for a 95% confidence interval, we are 95% sure that the mean of the population is within the confidence interval. \n",
    ").\n",
    "\n",
    "To read more about confidence intervals, click [here](https://en.wikipedia.org/wiki/Confidence_interval).\n",
    "\n",
    "\n",
    "In the cell below, we will construct a 95% confidence interval for the mean hourly wage of all hourly workers. \n",
    "\n",
    "The confidence interval is computed in SciPy using the `t.interval` function. You can read more about this function [here](https://docs.scipy.org/doc/scipy-0.14.0/reference/generated/scipy.stats.t.html).\n",
    "\n",
    "To compute the confidence interval of the hourly wage, use the 0.95 for the confidence level, number of rows - 1 for degrees of freedom, the mean of the sample for the location parameter and the standard error for the scale. The standard error can be computed using [this](https://docs.scipy.org/doc/scipy/reference/generated/scipy.stats.sem.html) function in SciPy."
   ]
  },
  {
   "cell_type": "code",
   "execution_count": 67,
   "metadata": {},
   "outputs": [
    {
     "output_type": "execute_result",
     "data": {
      "text/plain": [
       "(32.52345834488425, 33.05365708767623)"
      ]
     },
     "metadata": {},
     "execution_count": 67
    }
   ],
   "source": [
    "# Your code here:\n",
    "import numpy as np\n",
    "import scipy.stats as st\n",
    "mean_hourly = salaries['Hourly Rate'].dropna()\n",
    "interval_confidence = st.t.interval(0.95, len(mean_hourly)-1, loc=np.mean(mean_hourly), scale=st.sem(mean_hourly))\n",
    "interval_confidence"
   ]
  },
  {
   "cell_type": "markdown",
   "metadata": {},
   "source": [
    "Now construct the 95% confidence interval for all salaried employeed in the police in the cell below."
   ]
  },
  {
   "cell_type": "code",
   "execution_count": 69,
   "metadata": {},
   "outputs": [
    {
     "output_type": "execute_result",
     "data": {
      "text/plain": [
       "(86526.99656774187, 87047.00301256099)"
      ]
     },
     "metadata": {},
     "execution_count": 69
    }
   ],
   "source": [
    "# Your code here:\n",
    "mean_hourly = salaries['Annual Salary'].dropna()\n",
    "interval_confidence = st.t.interval(0.95, len(mean_hourly)-1, loc=np.mean(mean_hourly), scale=st.sem(mean_hourly))\n",
    "interval_confidence"
   ]
  },
  {
   "cell_type": "markdown",
   "metadata": {},
   "source": [
    "# Challenge 4 - Hypothesis Tests of Proportions\n",
    "\n",
    "Another type of one sample test is a hypothesis test of proportions. In this test, we examine whether the proportion of a group in our sample is significantly different than a fraction. \n",
    "\n",
    "You can read more about one sample proportion tests [here](http://sphweb.bumc.bu.edu/otlt/MPH-Modules/BS/SAS/SAS6-CategoricalData/SAS6-CategoricalData2.html).\n",
    "\n",
    "In the cell below, use the `proportions_ztest` function from `statsmodels` to perform a hypothesis test that will determine whether the number of hourly workers in the City of Chicago is significantly different from 25% at the 95% confidence level."
   ]
  },
  {
   "cell_type": "code",
   "execution_count": 73,
   "metadata": {},
   "outputs": [],
   "source": [
    "from statsmodels.stats.proportion import proportions_ztest"
   ]
  },
  {
   "cell_type": "code",
   "execution_count": 87,
   "metadata": {},
   "outputs": [
    {
     "output_type": "stream",
     "name": "stdout",
     "text": [
      "z_stat: 1.0013740559850708, p_value: 0.15832300103312313\n\nReject the null hypothesis - suggest the alternative hypothesis is true\n"
     ]
    }
   ],
   "source": [
    "# Your code here:\n",
    "# can we assume anything from our sample\n",
    "significance = 0.25\n",
    "# our sample - 95% are good\n",
    "sample_size = hourly\n",
    "sample_success = hourly/1.05\n",
    "# our Ho is  95%\n",
    "null_hypothesis = 0.95\n",
    "stat, p_value = proportions_ztest(count=sample_success, nobs=sample_size, value=null_hypothesis, alternative='larger')\n",
    "\n",
    "print(f'z_stat: {stat}, p_value: {p_value}')\n",
    "print()\n",
    "if p_value > significance:\n",
    "   print (\"Fail to reject the null hypothesis - we have nothing else to say\")\n",
    "else:\n",
    "   print (\"Reject the null hypothesis - suggest the alternative hypothesis is true\")"
   ]
  },
  {
   "cell_type": "code",
   "execution_count": null,
   "metadata": {},
   "outputs": [],
   "source": []
  }
 ],
 "metadata": {
  "kernelspec": {
   "name": "python3",
   "display_name": "Python 3.9.5 64-bit"
  },
  "language_info": {
   "codemirror_mode": {
    "name": "ipython",
    "version": 3
   },
   "file_extension": ".py",
   "mimetype": "text/x-python",
   "name": "python",
   "nbconvert_exporter": "python",
   "pygments_lexer": "ipython3",
   "version": "3.9.5"
  },
  "interpreter": {
   "hash": "376f5b0795f81aa7b5d99e448d6274743a66c9892fd26cf11e505993f41df5fa"
  }
 },
 "nbformat": 4,
 "nbformat_minor": 2
}